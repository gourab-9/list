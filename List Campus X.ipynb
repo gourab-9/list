{
 "cells": [
  {
   "cell_type": "raw",
   "id": "bd933824",
   "metadata": {},
   "source": [
    "array vs list,\n",
    "list is dynamic in size,\n",
    "arrays are homogeneous and list are hetrogeneous,\n",
    "speed of list is slow,\n",
    "memory consumption is more in list"
   ]
  },
  {
   "cell_type": "raw",
   "id": "f0f5ccce",
   "metadata": {},
   "source": [
    "ordered\n",
    "changeable or mutable\n",
    "Hetrogenous\n",
    "can have duplicate \n",
    "dynamic\n",
    "can be nested\n",
    "items can be accessed\n",
    "can contain any kind of objects in python"
   ]
  },
  {
   "cell_type": "code",
   "execution_count": 1,
   "id": "bfd3fda7",
   "metadata": {},
   "outputs": [
    {
     "name": "stdout",
     "output_type": "stream",
     "text": [
      "[]\n",
      "[1, 2, 3, 4, 5]\n",
      "[2, 3, 4, 5, [6, 7]]\n",
      "[[[1, 2]], [[3, 4]], [5, 6]]\n",
      "[1, 2.2, True, (5+6j), 'String']\n",
      "['h', 'e', 'l', 'l', 'o', ' ', 'p', 'y', 't', 'h', 'o', 'n']\n"
     ]
    }
   ],
   "source": [
    "# empty \n",
    "print([])\n",
    "# 1d - Homo\n",
    "print([1,2,3,4,5]) # Homogeneous\n",
    "#2d\n",
    "print([2,3,4,5,[6,7]])  # Hetrogeneous\n",
    "# 3d\n",
    "print([[[1,2]],[[3,4]],[5,6]]) # Homogeneous\n",
    "print([1,2.2,True,5+6j,'String']) # Hetrogeneous\n",
    "# using Type conversion\n",
    "print(list('hello python'))"
   ]
  },
  {
   "cell_type": "code",
   "execution_count": 2,
   "id": "a9c70003",
   "metadata": {},
   "outputs": [
    {
     "name": "stdout",
     "output_type": "stream",
     "text": [
      "3\n",
      "4\n",
      "5\n",
      "4\n"
     ]
    }
   ],
   "source": [
    "# Indexing\n",
    "l = [1,2,3,4,4]\n",
    "print(l[2])\n",
    "print(l[-2])\n",
    "\n",
    "l1 = [1,2,3,[4,5]]\n",
    "print(l1[3][1])\n",
    "print(l1[-1][0])"
   ]
  },
  {
   "cell_type": "code",
   "execution_count": 1,
   "id": "871f2513",
   "metadata": {},
   "outputs": [
    {
     "name": "stdout",
     "output_type": "stream",
     "text": [
      "2\n"
     ]
    }
   ],
   "source": [
    "l = [[[1,2],[3,4]],[[5,6],[7,8]]]\n",
    "print(l[0][0][1])"
   ]
  },
  {
   "cell_type": "code",
   "execution_count": 2,
   "id": "4aefa42e",
   "metadata": {},
   "outputs": [
    {
     "name": "stdout",
     "output_type": "stream",
     "text": [
      "[4, 5]\n"
     ]
    }
   ],
   "source": [
    "l = [1,2,3,4,5,6]\n",
    "print(l[-3:-1])"
   ]
  },
  {
   "cell_type": "code",
   "execution_count": 3,
   "id": "23521d77",
   "metadata": {},
   "outputs": [
    {
     "name": "stdout",
     "output_type": "stream",
     "text": [
      "[1, 2, 3, 4]\n",
      "[6, 5, 4, 3, 2, 1]\n"
     ]
    }
   ],
   "source": [
    "print(l[0:4:1])\n",
    "print(l[::-1])"
   ]
  },
  {
   "cell_type": "code",
   "execution_count": 4,
   "id": "8d885933",
   "metadata": {},
   "outputs": [
    {
     "name": "stdout",
     "output_type": "stream",
     "text": [
      "[1, 2, 3, 4, 5, 6]\n"
     ]
    }
   ],
   "source": [
    "l = [1,2,3,4,5]\n",
    "l.append(6)\n",
    "print(l)"
   ]
  },
  {
   "cell_type": "code",
   "execution_count": 5,
   "id": "35f40917",
   "metadata": {},
   "outputs": [
    {
     "name": "stdout",
     "output_type": "stream",
     "text": [
      "[1, 2, 3, 4, 5, 6, 5, 4]\n"
     ]
    }
   ],
   "source": [
    "l = [1,2,3,4,5]\n",
    "l.extend([6,5,4])\n",
    "print(l)"
   ]
  },
  {
   "cell_type": "code",
   "execution_count": 6,
   "id": "65c7e086",
   "metadata": {},
   "outputs": [
    {
     "name": "stdout",
     "output_type": "stream",
     "text": [
      "[1, 2, 3, 4, 5, [6, 5, 4]]\n"
     ]
    }
   ],
   "source": [
    "l = [1,2,3,4,5]\n",
    "l.append([6,5,4])\n",
    "print(l)"
   ]
  },
  {
   "cell_type": "code",
   "execution_count": 7,
   "id": "ff403350",
   "metadata": {},
   "outputs": [
    {
     "name": "stdout",
     "output_type": "stream",
     "text": [
      "[1, 2, 3, 4, 5, 'G', 'o', 'u', 'r', 'a', 'b']\n"
     ]
    }
   ],
   "source": [
    "l = [1,2,3,4,5]\n",
    "l.extend(\"Gourab\")\n",
    "print(l)"
   ]
  },
  {
   "cell_type": "code",
   "execution_count": 8,
   "id": "9cafaa49",
   "metadata": {},
   "outputs": [
    {
     "name": "stdout",
     "output_type": "stream",
     "text": [
      "[1, 2, 3, 4, 5, 'Gourab']\n"
     ]
    }
   ],
   "source": [
    "l = [1,2,3,4,5]\n",
    "l.extend([\"Gourab\"])\n",
    "print(l)"
   ]
  },
  {
   "cell_type": "code",
   "execution_count": 9,
   "id": "576aa644",
   "metadata": {},
   "outputs": [
    {
     "name": "stdout",
     "output_type": "stream",
     "text": [
      "[1, 2, 4, 3, 4, 5]\n"
     ]
    }
   ],
   "source": [
    "l = [1,2,3,4,5]\n",
    "l.insert(2,4)\n",
    "print(l)"
   ]
  },
  {
   "cell_type": "code",
   "execution_count": 10,
   "id": "b3e45e43",
   "metadata": {},
   "outputs": [
    {
     "name": "stdout",
     "output_type": "stream",
     "text": [
      "[1, 2, 3, 4, 5, 6, 7, 8, 900]\n",
      "[100, 200, 300, 400, 500, 600, 700, 800, 900]\n"
     ]
    }
   ],
   "source": [
    "l = [1,2,3,4,5,6,7,8,9]\n",
    "l[-1] = 900\n",
    "print(l)\n",
    "l[0:-1] = [100,200,300,400,500,600,700,800]\n",
    "print(l)"
   ]
  },
  {
   "cell_type": "raw",
   "id": "bfbe8487",
   "metadata": {},
   "source": [
    "num = int(input(\"enter your number -->\"))\n",
    "rev = 0\n",
    "while num != 0:\n",
    "    s = num % 10\n",
    "    rev = rev * 10 + s\n",
    "    num = num // 10\n",
    "print(str(rev))"
   ]
  },
  {
   "cell_type": "code",
   "execution_count": 11,
   "id": "e360ef52",
   "metadata": {},
   "outputs": [
    {
     "name": "stdout",
     "output_type": "stream",
     "text": [
      "[1, 2, 3, 4, 5, 6, 7]\n"
     ]
    }
   ],
   "source": [
    "l = [1,2,3,4,5,6,7,8]\n",
    "del (l[-1])\n",
    "print(l)"
   ]
  },
  {
   "cell_type": "code",
   "execution_count": 12,
   "id": "39617c5b",
   "metadata": {},
   "outputs": [
    {
     "name": "stdout",
     "output_type": "stream",
     "text": [
      "[1, 4, 5, 6, 7]\n"
     ]
    }
   ],
   "source": [
    "del (l[1:3])\n",
    "print(l)"
   ]
  },
  {
   "cell_type": "code",
   "execution_count": 13,
   "id": "815fff3c",
   "metadata": {},
   "outputs": [
    {
     "name": "stdout",
     "output_type": "stream",
     "text": [
      "[1, 2, 3, 4, 6, 7, 8]\n"
     ]
    }
   ],
   "source": [
    "l = [1,2,3,4,5,6,7,8]\n",
    "l.remove(5)\n",
    "print(l)"
   ]
  },
  {
   "cell_type": "code",
   "execution_count": 14,
   "id": "0974e07d",
   "metadata": {},
   "outputs": [
    {
     "data": {
      "text/plain": [
       "8"
      ]
     },
     "execution_count": 14,
     "metadata": {},
     "output_type": "execute_result"
    }
   ],
   "source": [
    "l = [1,2,3,4,5,6,7,8]\n",
    "l.pop()"
   ]
  },
  {
   "cell_type": "code",
   "execution_count": 15,
   "id": "99784d3a",
   "metadata": {},
   "outputs": [
    {
     "data": {
      "text/plain": [
       "1"
      ]
     },
     "execution_count": 15,
     "metadata": {},
     "output_type": "execute_result"
    }
   ],
   "source": [
    "l.pop(0)"
   ]
  },
  {
   "cell_type": "code",
   "execution_count": 16,
   "id": "4ba31998",
   "metadata": {},
   "outputs": [
    {
     "name": "stdout",
     "output_type": "stream",
     "text": [
      "[]\n"
     ]
    }
   ],
   "source": [
    "l = [1,2,3,4,5,6,7,8]\n",
    "l.clear()\n",
    "print(l)"
   ]
  },
  {
   "cell_type": "code",
   "execution_count": 17,
   "id": "a613ea60",
   "metadata": {},
   "outputs": [
    {
     "name": "stdout",
     "output_type": "stream",
     "text": [
      "[1, 2, 3, 4, 5, 6, 7, 8, 9, 10, 11, 12, 13, 14]\n",
      "[1, 2, 3, 4, 5, 6, 7, 1, 2, 3, 4, 5, 6, 7, 1, 2, 3, 4, 5, 6, 7, 8, 9, 10, 11, 12, 13, 14, 8, 9, 10, 11, 12, 13, 14]\n"
     ]
    }
   ],
   "source": [
    "l1 = [1,2,3,4,5,6,7]\n",
    "l2 = [8,9,10,11,12,13,14]\n",
    "\n",
    "print(l1+l2)\n",
    "print((l1*3)+(l2*2))"
   ]
  },
  {
   "cell_type": "code",
   "execution_count": 18,
   "id": "e44bf622",
   "metadata": {},
   "outputs": [
    {
     "name": "stdout",
     "output_type": "stream",
     "text": [
      "False\n",
      "True\n"
     ]
    }
   ],
   "source": [
    "l1 = [1,2,3,[4,5,6,7]]\n",
    "l2 = [8,9,10,11,[12,13,14]]\n",
    "\n",
    "print(5 in l1)\n",
    "print(12 not in l2)"
   ]
  },
  {
   "cell_type": "code",
   "execution_count": 19,
   "id": "84574cd9",
   "metadata": {},
   "outputs": [
    {
     "name": "stdout",
     "output_type": "stream",
     "text": [
      "1\n",
      "2\n",
      "3\n",
      "[4, 5, 6, 7]\n"
     ]
    }
   ],
   "source": [
    "l1 = [1,2,3,[4,5,6,7]]\n",
    "l2 = [8,9,10,11,[12,13,14]]\n",
    "\n",
    "for i in l1:\n",
    "    print(i)"
   ]
  },
  {
   "cell_type": "code",
   "execution_count": 20,
   "id": "990dbcb3",
   "metadata": {},
   "outputs": [
    {
     "name": "stdout",
     "output_type": "stream",
     "text": [
      "[[1, 2], [3, 4]]\n",
      "[[5, 6], [7, 8]]\n"
     ]
    }
   ],
   "source": [
    "l = [[[1,2],[3,4]],[[5,6],[7,8]]]\n",
    "for i in l:\n",
    "    print(i)"
   ]
  },
  {
   "cell_type": "code",
   "execution_count": 21,
   "id": "0fb3726a",
   "metadata": {},
   "outputs": [
    {
     "name": "stdout",
     "output_type": "stream",
     "text": [
      "2\n",
      "[[1, 2], [3, 4]]\n",
      "[[5, 6], [7, 8]]\n",
      "[[[5, 6], [7, 8]], [[1, 2], [3, 4]]]\n",
      "0\n",
      "7\n"
     ]
    }
   ],
   "source": [
    "l = [[[1,2],[3,4]],[[5,6],[7,8]]]\n",
    "l1 = [1,2,3,4,5,6,7,8,9]\n",
    "print(len(l))\n",
    "print(min(l))\n",
    "print(max(l))\n",
    "print(sorted(l,reverse = True))\n",
    "print(l.count(2))\n",
    "print(l1.index(8))"
   ]
  },
  {
   "cell_type": "code",
   "execution_count": 22,
   "id": "86aaa54b",
   "metadata": {},
   "outputs": [
    {
     "name": "stdout",
     "output_type": "stream",
     "text": [
      "[[[1, 2], [3, 4]], [[5, 6], [7, 8]]]\n"
     ]
    }
   ],
   "source": [
    "l2 = [2,1,3,5,4,7,8,6,9]\n",
    "l2.reverse()\n",
    "print(l)"
   ]
  },
  {
   "cell_type": "code",
   "execution_count": 23,
   "id": "1a1df34f",
   "metadata": {},
   "outputs": [
    {
     "name": "stdout",
     "output_type": "stream",
     "text": [
      "Enter your number 876\n",
      "678\n"
     ]
    }
   ],
   "source": [
    "num = int(input(\"Enter your number \"))\n",
    "rev = 0\n",
    "while num !=0 :\n",
    "    s = num % 10\n",
    "    rev = rev * 10 + s\n",
    "    num = num // 10\n",
    "print(rev)"
   ]
  },
  {
   "cell_type": "code",
   "execution_count": 24,
   "id": "8c56fbe1",
   "metadata": {},
   "outputs": [
    {
     "name": "stdout",
     "output_type": "stream",
     "text": [
      "Enter anything hello\n",
      "olleh\n"
     ]
    }
   ],
   "source": [
    "an = input(\"Enter anything \")\n",
    "print(an[::-1])"
   ]
  },
  {
   "cell_type": "code",
   "execution_count": 25,
   "id": "eb296857",
   "metadata": {},
   "outputs": [
    {
     "name": "stdout",
     "output_type": "stream",
     "text": [
      "Enter anything olleh\n",
      "hello\n"
     ]
    }
   ],
   "source": [
    "an = input(\"Enter anything \")\n",
    "print(an[::-1])"
   ]
  },
  {
   "cell_type": "code",
   "execution_count": 26,
   "id": "b06d4e75",
   "metadata": {},
   "outputs": [
    {
     "name": "stdout",
     "output_type": "stream",
     "text": [
      "[1, 2, 7, 8, 9, 3, 4, 5, 6]\n",
      "[1, 2, 3, 4, 5, 6, 7, 8, 9]\n",
      "[1, 2, 7, 8, 9, 3, 4, 5, 6]\n",
      "[9, 8, 7, 6, 5, 4, 3, 2, 1]\n"
     ]
    }
   ],
   "source": [
    "l = [1,2,7,8,9,3,4,5,6]\n",
    "print(l)\n",
    "print(sorted(l))  #Sorted function sorted the value temporarily.\n",
    "print(l)\n",
    "l.sort(reverse=True)      # Sort function sorted the value permantely\n",
    "print(l)"
   ]
  },
  {
   "cell_type": "code",
   "execution_count": 6,
   "id": "65e6957f",
   "metadata": {},
   "outputs": [
    {
     "name": "stdout",
     "output_type": "stream",
     "text": [
      "[1, 2, 7, 8, 9, 3, 4, 5, 6]\n",
      "2990689010432\n",
      "[1, 2, 7, 8, 9, 3, 4, 5, 6]\n",
      "2990705676416\n"
     ]
    }
   ],
   "source": [
    "l = [1,2,7,8,9,3,4,5,6]\n",
    "print(l)\n",
    "print(id(l))\n",
    "l1 = l.copy()\n",
    "print(l)\n",
    "print (id(l1))"
   ]
  },
  {
   "cell_type": "code",
   "execution_count": 8,
   "id": "bcc0163d",
   "metadata": {},
   "outputs": [
    {
     "data": {
      "text/plain": [
       "[1, 2, 3, 4, 5, 6, 7, 8, 9, 10]"
      ]
     },
     "execution_count": 8,
     "metadata": {},
     "output_type": "execute_result"
    }
   ],
   "source": [
    "l = [i for i in range(1,11)]\n",
    "l"
   ]
  },
  {
   "cell_type": "code",
   "execution_count": 11,
   "id": "f88be474",
   "metadata": {},
   "outputs": [
    {
     "name": "stdout",
     "output_type": "stream",
     "text": [
      "[12, 23, 34, 45, 12, 23, 34, 45, 12, 23, 34, 45]\n"
     ]
    }
   ],
   "source": [
    "v = [12,23,34,45]\n",
    "s = 3\n",
    "print(v*s)"
   ]
  },
  {
   "cell_type": "code",
   "execution_count": 16,
   "id": "e73ebb2a",
   "metadata": {},
   "outputs": [
    {
     "name": "stdout",
     "output_type": "stream",
     "text": [
      "[36, 69, 102, 135]\n"
     ]
    }
   ],
   "source": [
    "v = [12,23,34,45]\n",
    "s = 3\n",
    "k = []\n",
    "for i in v:\n",
    "    k.append (i*s)\n",
    "print(k)"
   ]
  },
  {
   "cell_type": "code",
   "execution_count": 17,
   "id": "550a3a5d",
   "metadata": {},
   "outputs": [
    {
     "name": "stdout",
     "output_type": "stream",
     "text": [
      "[-36, -69, -102, -135]\n"
     ]
    }
   ],
   "source": [
    "v = [12,23,34,45]\n",
    "s = -3\n",
    "k = [i*s for i in v]\n",
    "print(k)"
   ]
  },
  {
   "cell_type": "code",
   "execution_count": 23,
   "id": "85505e49",
   "metadata": {},
   "outputs": [
    {
     "name": "stdout",
     "output_type": "stream",
     "text": [
      "['python', 'php', 'phone']\n"
     ]
    }
   ],
   "source": [
    "languages = ['python','php','phone','java', 'flask','c','c++']\n",
    "\n",
    "lang = [i for i in languages if i.startswith('p')]\n",
    "print(lang)"
   ]
  },
  {
   "cell_type": "code",
   "execution_count": 29,
   "id": "8c74b84a",
   "metadata": {},
   "outputs": [
    {
     "data": {
      "text/plain": [
       "['apple']"
      ]
     },
     "execution_count": 29,
     "metadata": {},
     "output_type": "execute_result"
    }
   ],
   "source": [
    "basket = ['apple','guava','cherry','banana']\n",
    "my_fruit = ['apple','kiwi','grapes','banana']\n",
    "\n",
    "[fruits for fruits in basket if fruits in my_fruit if fruits.startswith('a')]"
   ]
  },
  {
   "cell_type": "code",
   "execution_count": 4,
   "id": "a2bfc348",
   "metadata": {},
   "outputs": [
    {
     "data": {
      "text/plain": [
       "[[1, 2, 3], [2, 4, 6], [3, 6, 9]]"
      ]
     },
     "execution_count": 4,
     "metadata": {},
     "output_type": "execute_result"
    }
   ],
   "source": [
    "[[i*j for i in range (1,4)] for j in range(1,4)]"
   ]
  },
  {
   "cell_type": "code",
   "execution_count": 5,
   "id": "b025cdfb",
   "metadata": {},
   "outputs": [
    {
     "data": {
      "text/plain": [
       "[5, 6, 7, 8, 10, 12, 14, 16, 15, 18, 21, 24, 20, 24, 28, 32]"
      ]
     },
     "execution_count": 5,
     "metadata": {},
     "output_type": "execute_result"
    }
   ],
   "source": [
    "l1 = [1,2,3,4]\n",
    "l2 = [5,6,7,8]\n",
    "\n",
    "[i*j for i in l1 for j in l2]"
   ]
  },
  {
   "cell_type": "code",
   "execution_count": 6,
   "id": "3fccd6ab",
   "metadata": {},
   "outputs": [
    {
     "name": "stdout",
     "output_type": "stream",
     "text": [
      "1\n",
      "2\n",
      "3\n",
      "4\n"
     ]
    }
   ],
   "source": [
    "l1 = [1,2,3,4]\n",
    "for i in l1:\n",
    "    print(i)"
   ]
  },
  {
   "cell_type": "code",
   "execution_count": 9,
   "id": "c53654de",
   "metadata": {},
   "outputs": [
    {
     "name": "stdout",
     "output_type": "stream",
     "text": [
      "1\n",
      "2\n",
      "3\n",
      "4\n"
     ]
    }
   ],
   "source": [
    "l1 = [1,2,3,4]\n",
    "for i in range(0,len(l1)):\n",
    "    print(l[i])"
   ]
  },
  {
   "cell_type": "code",
   "execution_count": 10,
   "id": "b65948a2",
   "metadata": {},
   "outputs": [
    {
     "name": "stdout",
     "output_type": "stream",
     "text": [
      "0\n",
      "1\n",
      "2\n",
      "3\n"
     ]
    }
   ],
   "source": [
    "l1 = [1,2,3,4]\n",
    "for i in range(0,len(l1)):\n",
    "    print(i)"
   ]
  },
  {
   "cell_type": "code",
   "execution_count": 13,
   "id": "8325cdb2",
   "metadata": {},
   "outputs": [
    {
     "data": {
      "text/plain": [
       "[0, 0, 0, 0]"
      ]
     },
     "execution_count": 13,
     "metadata": {},
     "output_type": "execute_result"
    }
   ],
   "source": [
    "l1 = [1,2,3,4]\n",
    "l2 = [-1,-2,-3,-4]\n",
    "\n",
    "list(zip(l1,l2))\n",
    "[i+j for i,j in zip(l1,l2)]"
   ]
  },
  {
   "cell_type": "code",
   "execution_count": 14,
   "id": "ba06f315",
   "metadata": {},
   "outputs": [
    {
     "name": "stdout",
     "output_type": "stream",
     "text": [
      "[1, 2, <built-in function print>, <class 'type'>, <bound method Kernel.raw_input of <ipykernel.ipkernel.IPythonKernel object at 0x000001C088702040>>]\n"
     ]
    }
   ],
   "source": [
    "l = [1,2,print,type,input]\n",
    "print(l)"
   ]
  },
  {
   "cell_type": "code",
   "execution_count": 18,
   "id": "67de2cba",
   "metadata": {},
   "outputs": [
    {
     "name": "stdout",
     "output_type": "stream",
     "text": [
      "Enter your input 12,34,45\n",
      "['1', '2', ',', '3', '4', ',', '4', '5']\n",
      "<class 'list'>\n"
     ]
    }
   ],
   "source": [
    "num = input(\"Enter your input \" )\n",
    "num1 = list(num)\n",
    "print(num1)\n",
    "print(type(num1))"
   ]
  },
  {
   "cell_type": "code",
   "execution_count": null,
   "id": "a8a20edb",
   "metadata": {},
   "outputs": [],
   "source": []
  }
 ],
 "metadata": {
  "kernelspec": {
   "display_name": "Python 3 (ipykernel)",
   "language": "python",
   "name": "python3"
  },
  "language_info": {
   "codemirror_mode": {
    "name": "ipython",
    "version": 3
   },
   "file_extension": ".py",
   "mimetype": "text/x-python",
   "name": "python",
   "nbconvert_exporter": "python",
   "pygments_lexer": "ipython3",
   "version": "3.9.12"
  }
 },
 "nbformat": 4,
 "nbformat_minor": 5
}
